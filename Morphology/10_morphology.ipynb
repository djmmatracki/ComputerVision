{
 "cells": [
  {
   "cell_type": "markdown",
   "metadata": {},
   "source": [
    "# Przekształcenia morfologiczne\n",
    "\n",
    "## Cel:\n",
    "- zapoznanie z podstawowymi przekształceniami morfologicznymi – erozją, dylatacją, otwarciem, zamknieciem, transformacją trafi, nie trafi,\n",
    "- zapoznanie ze złożonymi operacjami morfologicznymi wykorzystującymi rekonstrukcję morfologiczną,\n",
    "- zapoznanie z operacjami morfologicznym dla obrazów w odcieniach szarości – erozją, dylatacją, otwarciem, zamknieciem, filtrami top-hat i bottom-hat,\n",
    "- zapoznanie z wykorzystaniem złożonych operacji morfologicznych przy rozwiązywaniu konkretnego problemu,\n",
    "- zadanie domowe: wykorzystanie morfologii do implementacji ,,gry w życie''."
   ]
  },
  {
   "cell_type": "markdown",
   "metadata": {},
   "source": [
    "## Przypomnienie teorii\n",
    "\n",
    "### Element strukturalny\n",
    "\n",
    "Element strukturalny obrazu jest to pewien wycinek obrazu (przy dyskretnej reprezentacji obrazu – pewien podzbiór jego elementów). Najcześciej stosowanym elementem strukturalnym jest kwadratowa maska o rozmiarze 3×3 lub 5×5. Niekiedy pożądane są maski o innym kształcie, np. zbliżonym do elipsy.\n",
    "\n",
    "### Erozja\n",
    "\n",
    "Erozja (ang. _erosion_) jest podstawowym przekształceniem morfologicznym. Zakładamy, że obraz wyjściowy zawiera pewien obszar (figurę) X, wyróżniający się pewną charakterystyczną cechą (np. odróżniającą się od tła jasnością). Figura X po wykonaniu operacji erozji to zbiór punktów centralnych wszystkich elementów strukturalnych, które w całości mieszczą się we wnetrzu obszaru X. Miarą stopnia erozji jest wielkość elementu strukturalnego.\n",
    "\n",
    "Erozje można traktować jako filtr minimalny, tj. z danego otoczenia piksela (określanego przez maskę) do obrazu wynikowego wybierana jest wartość minimalna.\n",
    "\n",
    "### Dylatacja\n",
    "\n",
    "Dylatacja (ang. _dilation_): Zakładamy, że obraz wejściowy zawiera obszar X wyróżniający się pewną charakterystyczną cechą (np. jasnością). Figura przekształcona przez dylatacje to zbiór punktów centralnych wszystkich elementów strukturalnych, których którykolwiek punkt mieści sie we wnetrzu obszaru X. Miarą  dylatacji jest wielkość elementu strukturalnego.\n",
    "\n",
    "Dylatacje można traktować jako filtr maksymalny, tj. z danego otoczenia piksela (określanego\n",
    "przez maske) do obrazu wynikowego wybierana jest wartość maksymalna.\n",
    "\n",
    "### Otwarcie i zamknięcie\n",
    "\n",
    "Otwarcie (ang. _opening_) polega na wykonaniu najpierw operacji erozji, a nastepnie dylatacji.\n",
    "\n",
    "> Otwarcie = erozja + dylatacja\n",
    "\n",
    "Zamkniecie (ang. _closing_) polega na wykonaniu najpierw operacji dylatacji, a nastepnie erozji.\n",
    "\n",
    "> Zamkniecie = dylatacja + erozja\n",
    "\n",
    "### Obrazy w odcieniu szarości\n",
    "\n",
    "Obrazy w odcieniu szarości – detekcja dolin i szczytów (top-hat, bottom-hat):\n",
    "\n",
    "Aby wyodrebnić z obrazu lokalne ekstrema można wykorzystać zdefiniowane wcześniej przekształcenia: otwarcie i zamkniecie. W celu wyszukania lokalnych maksimów (szczytów) należy od wyniku otwarcia danego obrazu odjąć obraz wyjściowy. Analogicznie, aby wyodrebnić lokalne minima obrazu, należy dokonać podobnej operacji, z tym że pierwszą operacją bedzie zamkniecie. Uwaga! Należy zwrócić uwagę, że poniższe metody służą do detekcji (pokreślenia) tylko lokalnych ekstremów!"
   ]
  },
  {
   "cell_type": "markdown",
   "metadata": {},
   "source": [
    "## Podstawowe operacje morfologiczne: erozja, dylatacja, otwarcie, zamknięcie, trafi nie trafi\n",
    "\n",
    "1. Wczytaj obraz ertka.bmp\n",
    "2. Wykonaj operację erozji `cv2.erode`. Parametrami funkcji są obraz oraz element strukturalny. Element można stworzyć samodzielnie jako tablicę składającą się z 0 i 1 `np.ones((3,3))` lub posłużyć się funkcją `cv2.getStructuringElement`, do której należy podać kształt `cv2.MORPH_RECT` oraz wielkość elementu `(3,3)`. Na początku użyj kwadratu o rozmiarze 3 pikseli.\n",
    "3. Wyświetl obraz oryginalny oraz po wykonaniu erozji – najlepiej na wspólnym wykresie. Upewnij się, że rozumiesz, jak działa erozja.\n",
    "4. Zmień element strukturalny (inny kształt – koło, diament lub inny rozmiar). Ponownie wykonaj erozję, sprawdź rezultat działania operacji.\n",
    "5. Oprócz zmiany elementu strukturalnego na rezultat erozji można wpłynąć zwiększając liczbę iteracji (np. wykonać erozję trzykrotnie). Ustal element strukturalny na kwadrat o boku 3 piksele. Wykonaj erozję obrazu _ertka_ dwukrotnie, a następnie trzykrotnie. Zaobserwuj rezultaty. Wskazówka: warto zajrzeć do dokumentacji funkcji `erode`.\n",
    "6. Wczytaj obraz buzka.bmp. Dobierz element strukturalny (zdefiniuj go ręcznie jako macierz 0 i 1) w taki sposób, aby usunąć włosy o określonej orientacji (ukośnie lewo lub prawo).\n",
    "7. Uwaga: pokazane metody wpływania na rezultaty erozji wykorzystuje się identycznie dla pozostałych operacji morfologicznych – dylatacji, otwarcia i zamknięcia.\n",
    "8. Operacją odwrotną do erozji jest dylatacja `cv2.dilate`. Ustal element strukturalny na kwadrat o boku 3 piksele. Wykonaj dylatację obrazu _ertka_. Zapoznaj się z rezultatem działania.\n",
    "9. Na wspólnym wykresie wyświetl obraz oryginalny oraz obrazy po operacjach morfologicznych: erozja, dylatacja, otwarcie i zamkniecie. Otwarcie i zamknięcie można uzyskać za pomocą `cv2.morphologyEx(img, operacja, element_strukturalny)`, gdzie typem operacji jest `cv2.MORPH_OPEN` lub `cv2.MORPH_CLOSE`.\n",
    "10. Zmień obraz _ertka_ na _wyspa_, a następnie na _kolka_. Wykonaj na każdym cztery przedstawione operacje morfologiczne. Zaobserwuj rezultaty.\n",
    "11. Minizadanko: wykorzystując poznane operacje morfologiczne spowoduj, że na obrazie _ertka_ pozostanie tylko napis RT (bez wypustek i dziur).\n",
    "12. Niekiedy potrzebne jest wykrycie konkretnych konfiguracji pikseli na obrazie – przydaje się do tego transformacja trafi, nie trafi (ang. _hit-or-miss_). Pozwala ona wykryć na obrazie obecność elementów, które dokładnie odpowiadają masce.\n",
    "13. Wczytaj obraz hom.bmp. Wyświetl go. Załóżmy, że chcemy wykryć na obrazie krzyżyki 3x3. Zdefiniuj następujący element strukturalny:\n",
    "```\n",
    "[0,1,0]\n",
    "[1,1,1]\n",
    "[0,1,0]\n",
    "```\n",
    "Wykonaj transformację trafi, nie trafi – `cv2.morphologyEx(hom, cv2.MORPH_HITMISS, se1)`. Rezultat operacji wyświetl. Czy udało się zrealizować zadanie? Jeżeli pojawiają się u Państwa błędy związane z typem danych, należy obraz wejściowy przekonwertować na skalę szarości: `cv2.cvtColor(hom, cv2.COLOR_BGR2GRAY)`.\n"
   ]
  },
  {
   "cell_type": "code",
   "execution_count": null,
   "metadata": {},
   "outputs": [],
   "source": [
    "import matplotlib.pyplot as plt\n",
    "import cv2\n",
    "import numpy as np\n",
    "import os\n",
    "\n",
    "if not os.path.exists(\"buzka.bmp\") :\n",
    "    os.system(\"wget https://raw.githubusercontent.com/vision-agh/poc_sw/master/10_Morphology/buzka.bmp --no-check-certificate\")\n",
    "if not os.path.exists(\"calculator.bmp\") :\n",
    "    os.system(\"wget https://raw.githubusercontent.com/vision-agh/poc_sw/master/10_Morphology/calculator.bmp --no-check-certificate\")\n",
    "if not os.path.exists(\"ertka.bmp\") :\n",
    "    os.system(\"wget https://raw.githubusercontent.com/vision-agh/poc_sw/master/10_Morphology/ertka.bmp --no-check-certificate\")\n",
    "if not os.path.exists(\"ferrari.bmp\") :\n",
    "    os.system(\"wget https://raw.githubusercontent.com/vision-agh/poc_sw/master/10_Morphology/ferrari.bmp --no-check-certificate\")\n",
    "if not os.path.exists(\"fingerprint.bmp\") :\n",
    "    os.system(\"wget https://raw.githubusercontent.com/vision-agh/poc_sw/master/10_Morphology/fingerprint.bmp --no-check-certificate\")\n",
    "if not os.path.exists(\"hom.bmp\") :\n",
    "    os.system(\"wget https://raw.githubusercontent.com/vision-agh/poc_sw/master/10_Morphology/hom.bmp --no-check-certificate\")\n",
    "if not os.path.exists(\"kolka.bmp\") :\n",
    "    os.system(\"wget https://raw.githubusercontent.com/vision-agh/poc_sw/master/10_Morphology/kolka.bmp --no-check-certificate\")\n",
    "if not os.path.exists(\"kosc.bmp\") :\n",
    "    os.system(\"wget https://raw.githubusercontent.com/vision-agh/poc_sw/master/10_Morphology/kosc.bmp --no-check-certificate\")\n",
    "if not os.path.exists(\"szkielet.bmp\") :\n",
    "    os.system(\"wget https://raw.githubusercontent.com/vision-agh/poc_sw/master/10_Morphology/szkielet.bmp --no-check-certificate\")\n",
    "if not os.path.exists(\"text.bmp\") :\n",
    "    os.system(\"wget https://raw.githubusercontent.com/vision-agh/poc_sw/master/10_Morphology/text.bmp --no-check-certificate\")\n",
    "if not os.path.exists(\"wyspa.bmp\") :\n",
    "    os.system(\"wget https://raw.githubusercontent.com/vision-agh/poc_sw/master/10_Morphology/wyspa.bmp --no-check-certificate\")\n",
    "if not os.path.exists(\"rice.png\") :\n",
    "    os.system(\"wget https://raw.githubusercontent.com/vision-agh/poc_sw/master/10_Morphology/rice.png --no-check-certificate\")"
   ]
  },
  {
   "cell_type": "code",
   "execution_count": null,
   "metadata": {},
   "outputs": [],
   "source": [
    "ertka = cv2.imread(\"ertka.bmp\")\n",
    "ertka_erode = cv2.erode(ertka, cv2.getStructuringElement(cv2.MORPH_RECT, (3,3)))\n",
    "\n",
    "fig, (ax1, ax2) = plt.subplots(1, 2, figsize=(14, 7))\n",
    "ax1.imshow(ertka)\n",
    "ax1.set_title(\"Obraz oryginalny\")\n",
    "\n",
    "ax2.imshow(ertka_erode)\n",
    "ax2.set_title(\"Obraz po erozji za pomoca kwadratu (3, 3)\")\n",
    "plt.show()"
   ]
  },
  {
   "cell_type": "code",
   "execution_count": null,
   "metadata": {},
   "outputs": [],
   "source": [
    "ertka_erode = cv2.erode(ertka, cv2.getStructuringElement(cv2.MORPH_ELLIPSE, (4,4)))\n",
    "\n",
    "fig, (ax1, ax2) = plt.subplots(1, 2, figsize=(14, 7))\n",
    "ax1.imshow(ertka)\n",
    "ax1.set_title(\"Obraz oryginalny\")\n",
    "\n",
    "ax2.imshow(ertka_erode)\n",
    "ax2.set_title(\"Obraz po erozji za pomoca elipsy (4,4)\")\n",
    "plt.show()"
   ]
  },
  {
   "cell_type": "code",
   "execution_count": null,
   "metadata": {},
   "outputs": [],
   "source": [
    "ertka_erode = cv2.erode(ertka, cv2.getStructuringElement(cv2.MORPH_RECT, (3,3)), iterations=2)\n",
    "\n",
    "fig, (ax1, ax2) = plt.subplots(1, 2, figsize=(14, 7))\n",
    "ax1.imshow(ertka)\n",
    "ax1.set_title(\"Obraz oryginalny\")\n",
    "\n",
    "ax2.imshow(ertka_erode)\n",
    "ax2.set_title(\"Obraz po erozji dwukrotnej\")\n",
    "plt.show()"
   ]
  },
  {
   "cell_type": "code",
   "execution_count": null,
   "metadata": {},
   "outputs": [],
   "source": [
    "ertka_erode = cv2.erode(ertka, cv2.getStructuringElement(cv2.MORPH_RECT, (3,3)), iterations=3)\n",
    "\n",
    "fig, (ax1, ax2) = plt.subplots(1, 2, figsize=(14, 7))\n",
    "ax1.imshow(ertka)\n",
    "ax1.set_title(\"Obraz oryginalny\")\n",
    "\n",
    "ax2.imshow(ertka_erode)\n",
    "ax2.set_title(\"Obraz po erozji dwukrotnej\")\n",
    "plt.show()"
   ]
  },
  {
   "cell_type": "code",
   "execution_count": null,
   "metadata": {},
   "outputs": [],
   "source": [
    "buzka = cv2.imread(\"buzka.bmp\", cv2.IMREAD_GRAYSCALE)\n",
    "shape = np.array([\n",
    "    [0, 0, 1],\n",
    "    [0, 1, 0],\n",
    "    [1, 0, 0],\n",
    "]).astype(\"uint8\")\n",
    "\n",
    "buzka_erode = cv2.erode(buzka, shape)\n",
    "\n",
    "fig, (ax1, ax2) = plt.subplots(1, 2, figsize=(14, 7))\n",
    "ax1.imshow(buzka, 'gray')\n",
    "ax1.set_title(\"Obraz oryginalny\")\n",
    "\n",
    "ax2.imshow(buzka_erode, 'gray')\n",
    "ax2.set_title(\"Obraz po erozji\")\n",
    "plt.show()"
   ]
  },
  {
   "cell_type": "code",
   "execution_count": null,
   "metadata": {},
   "outputs": [],
   "source": [
    "ertka_erode = cv2.dilate(ertka, cv2.getStructuringElement(cv2.MORPH_RECT, (3,3)), iterations=3)\n",
    "\n",
    "fig, (ax1, ax2) = plt.subplots(1, 2, figsize=(14, 7))\n",
    "ax1.imshow(ertka)\n",
    "ax1.set_title(\"Obraz oryginalny\")\n",
    "\n",
    "ax2.imshow(ertka_erode)\n",
    "ax2.set_title(\"Obraz po dylatacji\")\n",
    "plt.show()"
   ]
  },
  {
   "cell_type": "code",
   "execution_count": null,
   "metadata": {},
   "outputs": [],
   "source": [
    "def morfology(I):\n",
    "    erode = cv2.erode(I, cv2.getStructuringElement(cv2.MORPH_RECT, (3,3)))\n",
    "    dilate = cv2.dilate(I, cv2.getStructuringElement(cv2.MORPH_RECT, (3,3)))\n",
    "    open = cv2.morphologyEx(I, cv2.MORPH_OPEN, cv2.getStructuringElement(cv2.MORPH_RECT, (3,3)))\n",
    "    close = cv2.morphologyEx(I, cv2.MORPH_CLOSE, cv2.getStructuringElement(cv2.MORPH_RECT, (3,3)))\n",
    "    \n",
    "    fig, ((ax1, ax2, ax3), (ax4, ax5, ax6)) = plt.subplots(2, 3, figsize=(14, 11))\n",
    "\n",
    "    ax1.imshow(I, 'gray')\n",
    "    ax1.set_title(\"Obraz oryginalny\")\n",
    "    ax1.axis(\"off\")\n",
    "\n",
    "    ax2.imshow(erode, 'gray')\n",
    "    ax2.set_title(\"Obraz po erozji\")\n",
    "    ax2.axis(\"off\")\n",
    "\n",
    "    ax3.imshow(dilate, 'gray')\n",
    "    ax3.set_title(\"Obraz po dylatacji\")\n",
    "    ax3.axis(\"off\")\n",
    "\n",
    "    ax4.imshow(open, 'gray')\n",
    "    ax4.set_title(\"Obraz po otwarciu\")\n",
    "    ax4.axis(\"off\")\n",
    "\n",
    "    ax5.imshow(close, 'gray')\n",
    "    ax5.set_title(\"Obraz po zamknieciu\")\n",
    "    ax5.axis(\"off\")\n",
    "\n",
    "    ax6.axis(\"off\")\n",
    "    plt.show()"
   ]
  },
  {
   "cell_type": "code",
   "execution_count": null,
   "metadata": {},
   "outputs": [],
   "source": [
    "morfology(ertka)"
   ]
  },
  {
   "cell_type": "code",
   "execution_count": null,
   "metadata": {},
   "outputs": [],
   "source": [
    "wyspa = cv2.imread(\"wyspa.bmp\", cv2.IMREAD_GRAYSCALE)\n",
    "morfology(wyspa)"
   ]
  },
  {
   "cell_type": "code",
   "execution_count": null,
   "metadata": {},
   "outputs": [],
   "source": [
    "kolka = cv2.imread(\"kolka.bmp\", cv2.IMREAD_GRAYSCALE)\n",
    "morfology(kolka)"
   ]
  },
  {
   "cell_type": "code",
   "execution_count": null,
   "metadata": {},
   "outputs": [],
   "source": [
    "erode = cv2.erode(ertka, cv2.getStructuringElement(cv2.MORPH_RECT, (3,3)))\n",
    "dilat = cv2.dilate(erode, cv2.getStructuringElement(cv2.MORPH_ELLIPSE, (11,11)))\n",
    "\n",
    "plt.imshow(dilat)\n",
    "plt.show()"
   ]
  },
  {
   "cell_type": "code",
   "execution_count": null,
   "metadata": {},
   "outputs": [],
   "source": [
    "hom = cv2.imread(\"hom.bmp\")\n",
    "hom_converted = cv2.cvtColor(hom, cv2.COLOR_BGR2GRAY)\n",
    "tab = np.array([\n",
    "    [0, 1, 0],\n",
    "    [1, 1, 1],\n",
    "    [0, 1, 0]\n",
    "])\n",
    "result = cv2.morphologyEx(hom_converted, cv2.MORPH_HITMISS, tab)\n",
    "plt.imshow(result, 'gray')\n",
    "plt.show()"
   ]
  },
  {
   "cell_type": "markdown",
   "metadata": {},
   "source": [
    "## Inne operacje morfologiczne\n",
    "Do innych operacji morfologicznych należą między innymi ścienianie (ang. _thinning_), szkieletyzacja (ang. _skeletonization_), rekonstrukcja morfologiczna (ang. _morphological reconstruction_), czyszczenie brzegu (ang. _clearing border_) i uzupełnianie dziur (ang. _filling holes_). W tym rozdziale zostanie zaprezentowana rekonstrukcja morfologiczna.\n",
    "\n",
    "Rekonstrukcja morfologiczna jest operacją trójargumentową. Wymaga podania markera (obrazu, od którego zacznie się transformacja), maski (ograniczenia transformacji) oraz elementu strukturalnego. Operacja polega na wykonywaniu kroków (dopóki w dwóch kolejnych iteracjach nic się nie zmieni):\n",
    "- dylatacja obrazu markera (z danym elementem strukturalnym),\n",
    "- nowy marker = część wspólna dylatacji starego markera i maski.\n",
    "\n",
    "Trzy operacje, które wykorzystują schemat rekonstrukcji to: \n",
    "- otwarcie poprzez rekonstrukcję,\n",
    "- wypełnianie dziur,\n",
    "- czyszczenie brzegu.\n",
    "\n",
    "### Otwarcie poprzez rekonstrukcję:\n",
    "- Wczytaj obraz text.bmp, wyświetl go.\n",
    "- Załóżmy, że chcemy wykryć na obrazie litery, które zawierają długie pionowe fragmenty. W pierwszym podejściu stosujemy morfologiczne otwarcie z maską pionową o wysokości 51 pikseli (taka jest średnia wysokość liter na obrazie – `np.ones((51,1))`. Sprawdź rezultat takiej operacji.\n",
    "- Detekcja wprawdzie sie udała, ale otrzymujemy tylko pionowe kreski.\n",
    "- Rozwiązaniem jest rekonstrukcja – jako marker wybieramy obraz oryginalny poddany erozji. Maskę stanowi obraz oryginalny. Samodzielnie dobierz element strukturalny.\n",
    "- Zaimplementuj rekonstrukcję i porównaj efekt otwarcia i rekonstrukcji.\n"
   ]
  },
  {
   "cell_type": "code",
   "execution_count": null,
   "metadata": {},
   "outputs": [],
   "source": [
    "text = cv2.imread(\"text.bmp\", cv2.IMREAD_GRAYSCALE)\n",
    "plt.figure(figsize=(10, 7))\n",
    "plt.imshow(text, 'gray')\n",
    "plt.show()"
   ]
  },
  {
   "cell_type": "code",
   "execution_count": null,
   "metadata": {},
   "outputs": [],
   "source": [
    "tab = np.ones((51,1)).astype(\"uint8\")\n",
    "open = cv2.morphologyEx(text, cv2.MORPH_OPEN, tab)\n",
    "\n",
    "plt.figure(figsize=(10,7))\n",
    "plt.imshow(open, 'gray')\n",
    "plt.show()"
   ]
  },
  {
   "cell_type": "code",
   "execution_count": null,
   "metadata": {},
   "outputs": [],
   "source": [
    "def reconstruction(marker, mask, struct_element):\n",
    "    new_marker = marker\n",
    "    result = np.zeros(new_marker.shape)\n",
    "\n",
    "    while not (new_marker == result).all():\n",
    "        result = new_marker\n",
    "        dilat = cv2.dilate(result, struct_element)\n",
    "        dilat = np.min((dilat, mask), axis=0)\n",
    "        new_marker = dilat\n",
    "\n",
    "    return result"
   ]
  },
  {
   "cell_type": "code",
   "execution_count": null,
   "metadata": {},
   "outputs": [],
   "source": [
    "kernel = np.ones((51,1), dtype=np.uint8)\n",
    "erode = cv2.erode(text, kernel)\n",
    "reconstructed = reconstruction(erode, text, np.ones((3,3)))\n",
    "\n",
    "plt.figure(figsize=(13, 10))\n",
    "plt.imshow(reconstructed, 'gray')\n",
    "plt.show()"
   ]
  },
  {
   "cell_type": "markdown",
   "metadata": {},
   "source": [
    "## Operacje morfologiczne dla obrazów w skali szarości\n",
    "\n",
    "Wszystkie dotychczasowe operacje (oprócz transformacji trafi, nie trafi) mają swoje odpowieniki dla obrazów w skali szarości. Konieczne jest tylko podanie definicji erozji i dylatacji w nieco innej formie:\n",
    "- Erozja – filtr minimalny.\n",
    "- Dylatacja – filtr maksymalny.\n",
    "\n",
    "\n",
    "1. Wczytaj obraz ferrari.bmp i wykonaj operacje morfologiczne: erozję i dylatację. Element strukturalny ustal na kwadrat 3×3. Oblicz też różnicę pomiędzy obrazem po dylatacji a po erozji – czyli tzw. gradient morfologiczny. Rezultaty wyświetl na wspólnym wykresie.\n",
    "2. Otwarcie to tłumienie jasnych detali na obrazie. Zamkniecie to tłumienie ciemnych detali na obrazie. Potwierdź powyższe stwierdzenia wykonując obie operacje na obrazie _ferrari_.\n",
    "3. Wykonaj operacje top-hat i bottom-hat `cv2.morphologyEx(img, cv2.MORPH_TOPHAT, strel)` oraz `cv2.morphologyEx(img, cv2.MORPH_BLACKHAT, strel)` na obrazie _ferrari_. Jakie obszary udało sie wykryć za pomocą tej operacji? Z jakich operacji składa sie filtr top-hat?\n",
    "4. Wczytaj obraz rice.png (z laboratorium o binaryzacji). Wyświetl go. Zwróć uwage na niejednorodne oświetlenie. Wykonaj operacje top-hat z dużym elementem strukturalnym (np. koło o rozmiarze 10) na tym obrazie. Wynik wyświetl. Co stało się z niejednorodnością oświetlenia?"
   ]
  },
  {
   "cell_type": "code",
   "execution_count": null,
   "metadata": {
    "pycharm": {
     "name": "#%%\n"
    }
   },
   "outputs": [],
   "source": [
    "ferrari = cv2.imread(\"ferrari.bmp\", cv2.IMREAD_GRAYSCALE)\n",
    "ferrari_erode = cv2.erode(ferrari, cv2.getStructuringElement(cv2.MORPH_RECT, (3,3)))\n",
    "ferrari_dilate = cv2.dilate(ferrari, cv2.getStructuringElement(cv2.MORPH_RECT, (3,3)))\n",
    "\n",
    "fig, ((ax1, ax2), (ax3, ax4)) = plt.subplots(2, 2, figsize=(12,9))\n",
    "ax1.imshow(ferrari, 'gray')\n",
    "ax1.set_title(\"Obraz oryginalny\")\n",
    "\n",
    "ax2.imshow(ferrari_erode, 'gray')\n",
    "ax2.set_title(\"Obraz po erozji\")\n",
    "\n",
    "ax3.imshow(ferrari_dilate, 'gray')\n",
    "ax3.set_title(\"Obraz po dylatacji\")\n",
    "\n",
    "ax4.imshow(np.abs(ferrari_dilate - ferrari_erode), 'gray')\n",
    "ax4.set_title(\"Roznica miedzy erozja a dylatacja\")\n",
    "\n",
    "plt.show()"
   ]
  },
  {
   "cell_type": "code",
   "execution_count": null,
   "metadata": {},
   "outputs": [],
   "source": [
    "struct_el = cv2.getStructuringElement(cv2.MORPH_RECT, (3,3))\n",
    "ferrari_open = cv2.morphologyEx(ferrari, cv2.MORPH_OPEN, struct_el)\n",
    "ferrari_close = cv2.morphologyEx(ferrari, cv2.MORPH_CLOSE, struct_el)\n",
    "\n",
    "fig, (ax1, ax2, ax3) = plt.subplots(1, 3, figsize=(16, 7))\n",
    "\n",
    "ax1.imshow(ferrari, 'gray')\n",
    "ax1.set_title(\"Obraz oryginalny\")\n",
    "\n",
    "ax2.imshow(ferrari_open, 'gray')\n",
    "ax2.set_title(\"Obraz po otwarciu\")\n",
    "\n",
    "ax3.imshow(ferrari_close, 'gray')\n",
    "ax3.set_title(\"Obraz po zamknieciu\")\n",
    "plt.show()\n"
   ]
  },
  {
   "cell_type": "code",
   "execution_count": null,
   "metadata": {},
   "outputs": [],
   "source": [
    "ferrari_tophat = cv2.morphologyEx(ferrari, cv2.MORPH_TOPHAT, struct_el)\n",
    "ferrari_blackhat = cv2.morphologyEx(ferrari, cv2.MORPH_BLACKHAT, struct_el)\n",
    "\n",
    "fig, (ax1, ax2, ax3) = plt.subplots(1, 3, figsize=(16, 7))\n",
    "\n",
    "ax1.imshow(ferrari, 'gray')\n",
    "ax1.set_title(\"Obraz oryginalny\")\n",
    "\n",
    "ax2.imshow(ferrari_tophat, 'gray')\n",
    "ax2.set_title(\"Obraz po operacji TOPHAT\")\n",
    "\n",
    "ax3.imshow(ferrari_blackhat, 'gray')\n",
    "ax3.set_title(\"Obraz po operacji BLACKHAT\")\n",
    "\n",
    "plt.show()\n",
    "# Za pomoca tych operacji udalo sie wykryc krawedzie\n",
    "# Operacja TOPHAT sklada sie na wykonanie operacji otwarcia a nastepnia odjecie wyniku od oryginalnego obrazu"
   ]
  },
  {
   "cell_type": "code",
   "execution_count": null,
   "metadata": {},
   "outputs": [],
   "source": [
    "rice = cv2.imread(\"rice.png\", cv2.IMREAD_GRAYSCALE)\n",
    "plt.figure(figsize=(5,5))\n",
    "plt.imshow(rice, 'gray')\n",
    "plt.show()"
   ]
  },
  {
   "cell_type": "code",
   "execution_count": null,
   "metadata": {},
   "outputs": [],
   "source": [
    "struct_el = cv2.getStructuringElement(cv2.MORPH_ELLIPSE, (10,10))\n",
    "rice_tophat = cv2.morphologyEx(rice, cv2.MORPH_TOPHAT, struct_el)\n",
    "\n",
    "plt.figure(figsize=(5,5))\n",
    "plt.imshow(rice_tophat, 'gray')\n",
    "plt.show()\n",
    "# Niejednorodne oswietlenie zniknelo"
   ]
  },
  {
   "cell_type": "markdown",
   "metadata": {},
   "source": [
    "## Przykład zastosowania morfologii\n",
    "\n",
    "1. Wczytaj obraz calculator.bmp. Wyświetl go. Zadanie do realizacji: wyizolować tekst na klawiszach kalkulatora.\n",
    "2. W pierwszym kroku usunięte zostaną poziome odbicia znajdujące się na górnej krawędzi każdego z klawiszy. Wykorzystamy fakt, że odbicie jest dłuższe niż jakikolwiek pojedynczy znak. Wykonujemy otwarcie przez rekonstrukcję (można wykorzystać kod z wcześniejszego zadania, ale tym razem mamy do czynienia z obrazem w skali szarości zamiast z binarnym – proszę się zastanowić, jaka operacja jest odpowiednikiem operacji AND?):\n",
    "  - początkowo wykonujemy erozję z elementem strukturalnym w postaci poziomej linii — `np.ones((1,71))`,\n",
    "  - następnie dokonujemy rekonstrukcji: marker – obraz po erozji, maska – obraz oryginalny,\n",
    "  - wynik operacji wyświetl. Dla porównania wyświetl wynik klasycznego otwarcia z takim samym elementem strukturalnym. W czym otwarcie przez rekonstrukcję jest lepsze od klasycznego?\n",
    "3. W poprzednim kroku (tj. w wyniku otwarcia przez rekonstrukcję) uzyskaliśmy obraz tła. Należy go teraz odjąć od obrazu oryginalnego. Ten rodzaj operacji można nazwać top-hat poprzez rekonstrukcję. Wynik wyświetl. Dla porównania wyświetl wynik klasycznej operacji top-hat – różnicy miedzy obrazem oryginalnym a obrazem po klasycznym otwarciu.\n",
    "4. W podobny sposób należy zlikwidować odblaski pionowe:\n",
    "  - erozja z elementem strukturalnym w postaci poziomej linii – `np.ones((1,11))` – zostaną zachowane wszystkie znaki (bo prawie wszystkie są szersze). Uwaga. Operacje wykonujemy na uzyskanym w kroku 3 rezultacie odjęcia od obrazu oryginalnego, obrazu po rekonstrukcji.\n",
    "  - rekonstrukcja: marker – obraz po erozji, maska – obraz z punktu 3 (różnica oryginalnego i tła),\n",
    "  - wynik wyświetl.\n",
    "5. Rezultat jest niemal satysfakcjonujący, ale wystąpił problem z cienkimi pionowymi elementami napisów – np. I na klawiszu ASIN. Wykorzystując fakt, że usunięte znaki znajdują się w bezpośrednim sąsiedztwie istniejących znaków wykonujemy następujące operacje:\n",
    "  - dylatacja z elementem `np.ones((1,21))`,\n",
    "  - rekonstrukcja z markerem w postaci – minimum(obraz po dylatacji z punktu powyżej, obraz uzyskany w punkcie 3, tj. różnica oryginalnego i tła) oraz maską – obraz z pkt. 3.\n",
    "6. Rezultat wyświetl. Czy za pomocą zaproponowanych operacji udało się uzyskać zamierzony efekt – ekstrakcję napisów?\n"
   ]
  },
  {
   "cell_type": "code",
   "execution_count": null,
   "metadata": {
    "pycharm": {
     "name": "#%%\n"
    }
   },
   "outputs": [],
   "source": [
    "calculator = cv2.imread(\"calculator.bmp\", cv2.IMREAD_GRAYSCALE)\n",
    "\n",
    "plt.figure(figsize=(7,7))\n",
    "plt.imshow(calculator, 'gray')\n",
    "plt.show()"
   ]
  },
  {
   "cell_type": "code",
   "execution_count": null,
   "metadata": {},
   "outputs": [],
   "source": [
    "kernel = np.ones((1,71), dtype=np.uint8)\n",
    "# struct_el = cv2.getStructuringElement(cv2.MORPH_RECT, (3,3))\n",
    "calc_erode = cv2.erode(calculator, kernel)\n",
    "reconstructed_calc = reconstruction(calc_erode, calculator, np.ones((3,3)))\n",
    "\n",
    "plt.title(\"Obraz po rekonstrukcji\")\n",
    "plt.imshow(reconstructed_calc, 'gray')\n",
    "plt.show()"
   ]
  },
  {
   "cell_type": "code",
   "execution_count": null,
   "metadata": {},
   "outputs": [],
   "source": [
    "calc_open = cv2.morphologyEx(calculator, cv2.MORPH_OPEN, kernel)\n",
    "\n",
    "plt.title(\"Obraz po otwarciu\")\n",
    "plt.imshow(calc_open, 'gray')\n",
    "plt.show()\n",
    "# Obraz po 'zwyklym' otawrciu pozostawia ciemne tlo miedzy przyciskami"
   ]
  },
  {
   "cell_type": "code",
   "execution_count": null,
   "metadata": {},
   "outputs": [],
   "source": [
    "calc_tophat = cv2.morphologyEx(calculator - calc_open, cv2.MORPH_TOPHAT, kernel)\n",
    "fig, (ax1, ax2) = plt.subplots(1, 2, figsize=(12, 7))\n",
    "\n",
    "ax1.imshow(calc_tophat, 'gray')\n",
    "ax1.set_title(\"Wynik operacji TOPHAT\")\n",
    "\n",
    "result = calculator - reconstructed_calc\n",
    "ax2.imshow(result, 'gray')\n",
    "ax2.set_title(\"Wynik operacji TOPHAT przez rekonstrukcje\")\n",
    "\n",
    "plt.show()"
   ]
  },
  {
   "cell_type": "code",
   "execution_count": null,
   "metadata": {},
   "outputs": [],
   "source": [
    "calc_erode = cv2.erode(result, np.ones((1, 11)))\n",
    "reconstructed = reconstruction(calc_erode, result, np.ones((3,3)))\n",
    "\n",
    "plt.imshow(reconstructed, 'gray')\n",
    "plt.axis('off')\n",
    "plt.show()"
   ]
  },
  {
   "cell_type": "code",
   "execution_count": null,
   "metadata": {},
   "outputs": [],
   "source": [
    "dilate_calc = cv2.dilate(reconstructed, np.ones((1, 21)))\n",
    "final_result = reconstruction(np.min((dilate_calc, result), axis=0), result, np.ones((3,3)))\n",
    "\n",
    "plt.figure(figsize=(7,7))\n",
    "plt.imshow(final_result, 'gray')\n",
    "plt.show()\n",
    "\n",
    "# Po wykonanych operacjach uzyskalismy satysfakcjonujacy rezultat"
   ]
  }
 ],
 "metadata": {
  "celltoolbar": "Raw Cell Format",
  "interpreter": {
   "hash": "14a7bf51936dda3e69141dcbf2f06534ff252f320b780d74bdf9103bfcafdd6e"
  },
  "kernelspec": {
   "display_name": "Python 3.9.7 ('venv': venv)",
   "language": "python",
   "name": "python3"
  },
  "language_info": {
   "codemirror_mode": {
    "name": "ipython",
    "version": 3
   },
   "file_extension": ".py",
   "mimetype": "text/x-python",
   "name": "python",
   "nbconvert_exporter": "python",
   "pygments_lexer": "ipython3",
   "version": "3.9.7"
  }
 },
 "nbformat": 4,
 "nbformat_minor": 4
}
